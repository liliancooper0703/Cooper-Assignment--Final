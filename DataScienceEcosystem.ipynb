{
 "cells": [
  {
   "cell_type": "markdown",
   "id": "91f3499f-cfec-4bd3-8baa-770ab8d3f0a7",
   "metadata": {},
   "source": [
    "# Data Science Tools and Ecosystem"
   ]
  },
  {
   "cell_type": "markdown",
   "id": "317d9633-ce55-4996-8fcb-b599c6b13d15",
   "metadata": {},
   "source": [
    "## Author\n",
    "Lilian Cooper"
   ]
  },
  {
   "cell_type": "markdown",
   "id": "70c91f86-1c87-47b4-b62d-77e3bd48572c",
   "metadata": {},
   "source": [
    "In this notebook, Data Science Tools and Ecosystems are summarized."
   ]
  },
  {
   "cell_type": "markdown",
   "id": "9433bb18-fd20-4eba-a030-b11a27ef71c2",
   "metadata": {},
   "source": [
    "**Objectives:**\n",
    "+ List Popular Languages Used by Data Scientists\n",
    "+ List the Commonly Used Libraries in Data Science\n",
    "+ Give Examples of Simple Arithmetic Code in Python"
   ]
  },
  {
   "cell_type": "markdown",
   "id": "91b9fb4e-45af-416b-af70-ed318377d148",
   "metadata": {},
   "source": [
    "Some of the popular languages that Data Scientists use are:"
   ]
  },
  {
   "cell_type": "markdown",
   "id": "960170ff-5b7b-40f7-9ab4-22e322d146b7",
   "metadata": {},
   "source": [
    "1. Python\n",
    "2. R\n",
    "3. Julia"
   ]
  },
  {
   "cell_type": "markdown",
   "id": "e7c71169-6813-4da5-a97d-0ba3fdb9adb1",
   "metadata": {},
   "source": [
    "Some of the commonly used libraries used by Data Scientists include:"
   ]
  },
  {
   "cell_type": "markdown",
   "id": "fe725f3a-18ea-4bd6-a3ac-626aa94fd973",
   "metadata": {},
   "source": [
    "1. R's dplyr for data manipulation\n",
    "2. R's ggplot for data visualization\n",
    "3. R's caret for machine learning"
   ]
  },
  {
   "cell_type": "markdown",
   "id": "d9ddeb4c-4f63-4226-8cf2-a65cdc30ebbe",
   "metadata": {},
   "source": [
    "|Data Science Tools|\n",
    "|------------------|\n",
    "| Jupyter Notebooks|\n",
    "|   Google Colab   |\n",
    "|      GitHub      |"
   ]
  },
  {
   "cell_type": "markdown",
   "id": "2b191ec0-b6cd-4ea2-8e09-ce1f2116553d",
   "metadata": {},
   "source": [
    "### Below are a few examples of evaluating arithmetic expressions in Python."
   ]
  },
  {
   "cell_type": "code",
   "execution_count": 2,
   "id": "64e059de-aaf3-4705-b0e3-955e9a5b75fd",
   "metadata": {
    "tags": []
   },
   "outputs": [
    {
     "data": {
      "text/plain": [
       "17"
      ]
     },
     "execution_count": 2,
     "metadata": {},
     "output_type": "execute_result"
    }
   ],
   "source": [
    "# This is a simple arithmetic expression to multiply then add integers.\n",
    "(3*4)+5"
   ]
  },
  {
   "cell_type": "code",
   "execution_count": 3,
   "id": "9cd294b8-d660-47eb-8410-cd3549462ca5",
   "metadata": {
    "tags": []
   },
   "outputs": [
    {
     "data": {
      "text/plain": [
       "3.3333333333333335"
      ]
     },
     "execution_count": 3,
     "metadata": {},
     "output_type": "execute_result"
    }
   ],
   "source": [
    "# This code will convert hours to minutes by dividing 200 minutes by 60 minutes per hour.\n",
    "200/60"
   ]
  },
  {
   "cell_type": "markdown",
   "id": "f0693db9-790e-4aa4-b80f-67ac56c3484d",
   "metadata": {},
   "source": []
  }
 ],
 "metadata": {
  "kernelspec": {
   "display_name": "Python",
   "language": "python",
   "name": "conda-env-python-py"
  },
  "language_info": {
   "codemirror_mode": {
    "name": "ipython",
    "version": 3
   },
   "file_extension": ".py",
   "mimetype": "text/x-python",
   "name": "python",
   "nbconvert_exporter": "python",
   "pygments_lexer": "ipython3",
   "version": "3.7.12"
  }
 },
 "nbformat": 4,
 "nbformat_minor": 5
}
